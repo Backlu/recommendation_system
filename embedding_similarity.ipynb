{
 "cells": [
  {
   "cell_type": "markdown",
   "id": "948fcf5e",
   "metadata": {},
   "source": [
    "# Net2Graph"
   ]
  },
  {
   "cell_type": "code",
   "execution_count": 6,
   "id": "d47ad404",
   "metadata": {},
   "outputs": [
    {
     "name": "stdout",
     "output_type": "stream",
     "text": [
      "The autoreload extension is already loaded. To reload it, use:\n",
      "  %reload_ext autoreload\n"
     ]
    }
   ],
   "source": [
    "%load_ext autoreload\n",
    "%autoreload 2\n",
    "\n",
    "import warnings\n",
    "warnings.filterwarnings('ignore')\n",
    "warnings.simplefilter(action='ignore', category=FutureWarning)\n",
    "import os\n",
    "import pandas as pd\n",
    "import numpy as np\n",
    "from py2neo import Graph, Node, Relationship, Subgraph, NodeMatcher\n",
    "from graphdatascience import GraphDataScience\n",
    "from tqdm import tqdm\n",
    "import json\n",
    "import joblib"
   ]
  },
  {
   "cell_type": "markdown",
   "id": "a81132be",
   "metadata": {},
   "source": [
    "## Network Embedding"
   ]
  },
  {
   "cell_type": "code",
   "execution_count": 7,
   "id": "6ef1107b",
   "metadata": {},
   "outputs": [],
   "source": [
    "#neo4j DB info\n",
    "#7473/tcp, 0.0.0.0:7471->7474/tcp, 0.0.0.0:7681->7687/tcp\n",
    "db_info = {\n",
    "    'uri' : \"bolt://10.109.6.14:7681\",\n",
    "    'user' : \"neo4j\",\n",
    "    'password' : \"admin\",\n",
    "    }\n",
    "graph_db = Graph(db_info['uri'], user=db_info['user'], password=db_info['password'])\n",
    "gds = GraphDataScience(db_info['uri'], auth=(db_info['user'], db_info['password']))\n"
   ]
  },
  {
   "cell_type": "code",
   "execution_count": 11,
   "id": "2e760297",
   "metadata": {},
   "outputs": [],
   "source": [
    "nodes = [\"Doc\", \"User\", \"Keyword\"]\n",
    "relationships = {\"HAS_KEYWORD\": {\"orientation\": \"UNDIRECTED\", \"properties\": \"score\"}, \"LIKE\": {\"orientation\": \"UNDIRECTED\", \"properties\": \"clicked\"}}\n",
    "#project\n",
    "G, _ = gds.graph.project(\"tmp_graph\", nodes, relationships)\n",
    "#fastRP\n",
    "result = gds.fastRP.write(\n",
    "    G,\n",
    "    writeProperty='embedding',\n",
    "    embeddingDimension=128,\n",
    "    iterationWeights=[0.8, 1, 1, 1],\n",
    "    )\n",
    "G.drop();\n"
   ]
  },
  {
   "cell_type": "markdown",
   "id": "f85724cf",
   "metadata": {},
   "source": [
    "## Similarity"
   ]
  },
  {
   "cell_type": "code",
   "execution_count": 20,
   "id": "b594da93",
   "metadata": {},
   "outputs": [],
   "source": [
    "cypher = f\"\"\"\n",
    "MATCH (a)-[r:SIMILAR_USER]-()\n",
    "DELETE r\n",
    "\"\"\"\n",
    "gds.run_cypher(cypher)\n",
    "\n",
    "node_projection = [\"User\"]\n",
    "relationship_projection = {\"LIKE\": {\"orientation\": \"UNDIRECTED\"}}\n",
    "nodeProperties=['embedding']\n",
    "G, _ = gds.graph.project(\"tmp_graph\", node_spec=node_projection, relationship_spec=relationship_projection, nodeProperties=nodeProperties)\n",
    "\n",
    "_ = gds.knn.write(\n",
    "    G, topK=5, nodeProperties=[\"embedding\"],\n",
    "    writeRelationshipType=\"SIMILAR_USER\", writeProperty=\"score\",\n",
    ")\n",
    "\n",
    "G.drop();"
   ]
  },
  {
   "cell_type": "code",
   "execution_count": 21,
   "id": "1c7b3249",
   "metadata": {},
   "outputs": [
    {
     "data": {
      "application/vnd.jupyter.widget-view+json": {
       "model_id": "9a871857757849799220d9c1e20ca461",
       "version_major": 2,
       "version_minor": 0
      },
      "text/plain": [
       "Knn:   0%|          | 0/100 [00:00<?, ?%/s]"
      ]
     },
     "metadata": {},
     "output_type": "display_data"
    }
   ],
   "source": [
    "cypher = f\"\"\"\n",
    "MATCH (a)-[r:SIMILAR_DOC]-()\n",
    "DELETE r\n",
    "\"\"\"\n",
    "gds.run_cypher(cypher)\n",
    "\n",
    "node_projection = [\"Doc\"]\n",
    "relationship_projection = {\"LIKE\": {\"orientation\": \"UNDIRECTED\"}}\n",
    "nodeProperties=['embedding']\n",
    "G, _ = gds.graph.project(\"tmp_graph\", node_spec=node_projection, relationship_spec=relationship_projection, nodeProperties=nodeProperties)\n",
    "\n",
    "_ = gds.knn.write(\n",
    "    G, topK=100, nodeProperties=[\"embedding\"],\n",
    "    writeRelationshipType=\"SIMILAR_DOC\", writeProperty=\"score\",\n",
    ")\n",
    "\n",
    "G.drop();"
   ]
  },
  {
   "cell_type": "code",
   "execution_count": null,
   "id": "512fd6ea",
   "metadata": {},
   "outputs": [],
   "source": []
  },
  {
   "cell_type": "code",
   "execution_count": null,
   "id": "a9ed48ea",
   "metadata": {},
   "outputs": [],
   "source": []
  }
 ],
 "metadata": {
  "kernelspec": {
   "display_name": "Python 3 (ipykernel)",
   "language": "python",
   "name": "python3"
  },
  "language_info": {
   "codemirror_mode": {
    "name": "ipython",
    "version": 3
   },
   "file_extension": ".py",
   "mimetype": "text/x-python",
   "name": "python",
   "nbconvert_exporter": "python",
   "pygments_lexer": "ipython3",
   "version": "3.8.2"
  }
 },
 "nbformat": 4,
 "nbformat_minor": 5
}
