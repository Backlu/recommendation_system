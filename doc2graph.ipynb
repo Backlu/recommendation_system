{
 "cells": [
  {
   "cell_type": "markdown",
   "id": "948fcf5e",
   "metadata": {},
   "source": [
    "# Net2Graph"
   ]
  },
  {
   "cell_type": "markdown",
   "id": "a26ab3cc",
   "metadata": {},
   "source": [
    "**History**\n",
    "- 0723: \n",
    "    - 從user click中sample 30％當作測試資料, 並將relationship更改為LIKE_TEST\n",
    "    - LIKE relationship新增score property"
   ]
  },
  {
   "cell_type": "code",
   "execution_count": 52,
   "id": "d47ad404",
   "metadata": {},
   "outputs": [
    {
     "name": "stdout",
     "output_type": "stream",
     "text": [
      "The autoreload extension is already loaded. To reload it, use:\n",
      "  %reload_ext autoreload\n"
     ]
    }
   ],
   "source": [
    "%load_ext autoreload\n",
    "%autoreload 2\n",
    "\n",
    "import warnings\n",
    "warnings.filterwarnings('ignore')\n",
    "warnings.simplefilter(action='ignore', category=FutureWarning)\n",
    "import os\n",
    "import pandas as pd\n",
    "import numpy as np\n",
    "from py2neo import Graph, Node, Relationship, Subgraph, NodeMatcher\n",
    "from tqdm import tqdm\n",
    "import json\n",
    "from keyword_extraction import Keyword_Extractor\n",
    "import joblib"
   ]
  },
  {
   "cell_type": "markdown",
   "id": "0e58fc25",
   "metadata": {},
   "source": [
    "## Preprocess"
   ]
  },
  {
   "cell_type": "markdown",
   "id": "a9874523",
   "metadata": {},
   "source": [
    "**User Click**"
   ]
  },
  {
   "cell_type": "code",
   "execution_count": 53,
   "id": "6a54a23d",
   "metadata": {},
   "outputs": [],
   "source": [
    "with open('data/all_item_user_distinct_fake_.json') as f:\n",
    "    user_click = json.load(f)\n",
    "    \n",
    "titl_dict = {}\n",
    "for d in user_click:\n",
    "    titl_dict[d['titleno']]=d['title']    "
   ]
  },
  {
   "cell_type": "code",
   "execution_count": 54,
   "id": "1c97ec32",
   "metadata": {
    "scrolled": true
   },
   "outputs": [
    {
     "name": "stderr",
     "output_type": "stream",
     "text": [
      "100%|████████████████████████████████████████████████████████████████████████████████████████████████████████████████████████████████████████████| 84/84 [00:00<00:00, 417.05it/s]\n"
     ]
    }
   ],
   "source": [
    "#select 10% test data\n",
    "df_userClick = pd.DataFrame(user_click)\n",
    "testdata_dict = {}\n",
    "for userid in tqdm(df_userClick['userid'].unique()):\n",
    "    df_test = df_userClick[(df_userClick['userid']==userid)&(df_userClick['clicked']==1)].sample(frac=0.3)\n",
    "    testdata_dict[userid] = df_test['titleno'].values\n"
   ]
  },
  {
   "cell_type": "markdown",
   "id": "bdb8c582",
   "metadata": {},
   "source": [
    "**Document**"
   ]
  },
  {
   "cell_type": "code",
   "execution_count": 55,
   "id": "cadd172b",
   "metadata": {},
   "outputs": [],
   "source": [
    "doc_df = pd.read_csv('data/all_item_sum.csv')"
   ]
  },
  {
   "cell_type": "code",
   "execution_count": 56,
   "id": "b0d08344",
   "metadata": {},
   "outputs": [],
   "source": [
    "doc_df['title'] = doc_df['titleno'].map(lambda x: titl_dict[x])\n",
    "doc_df['summary'] = doc_df.apply(lambda r: r['title_sum'].split(r['title'])[1], axis=1)\n",
    "doc_df['title_sum_new'] = doc_df.apply(lambda r: '。'.join([r.title,r.summary]), axis=1)"
   ]
  },
  {
   "cell_type": "markdown",
   "id": "c5dc1e27",
   "metadata": {},
   "source": [
    "**keyword**"
   ]
  },
  {
   "cell_type": "code",
   "execution_count": 57,
   "id": "f438b800",
   "metadata": {},
   "outputs": [],
   "source": [
    "kwExtractor = Keyword_Extractor()\n",
    "if False:\n",
    "    case_list = {}\n",
    "    for r in tqdm(doc_df.itertuples()):\n",
    "        data_dict = {}\n",
    "        titleno = r.titleno\n",
    "        title_sum = r.title_sum\n",
    "        data_dict['title_sum'] = title_sum\n",
    "\n",
    "        #keyword Extraction\n",
    "        keywords = kwExtractor.keyword_extract(title_sum, top_n=5)\n",
    "        keyword_df = pd.DataFrame(keywords['keywords'], columns=['keyword','score','embedding'])\n",
    "        kw_dic = keyword_df[['keyword','score']].to_dict('record')\n",
    "        data_dict['keywords'] = kw_dic#keyword_df.to_dict('record')\n",
    "        case_list[titleno] =data_dict\n",
    "    joblib.dump(case_list, 'data/case_list.pkl')\n",
    "else:\n",
    "    case_list = joblib.load('data/case_list.pkl')"
   ]
  },
  {
   "cell_type": "markdown",
   "id": "a81132be",
   "metadata": {},
   "source": [
    "## Import to Neo4j DB"
   ]
  },
  {
   "cell_type": "markdown",
   "id": "23572cf7",
   "metadata": {},
   "source": [
    "docker run \\\n",
    "    --name aaneo4j_ida \\\n",
    "    -p7471:7474 -p7681:7687 \\\n",
    "    -d \\\n",
    "    -e NEO4J_apoc_export_file_enabled=true \\\n",
    "    -e NEO4J_apoc_import_file_enabled=true \\\n",
    "    -e NEO4J_apoc_import_file_use__neo4j__config=true \\\n",
    "    -e NEO4J_dbms_security_procedures_unrestricted=apoc.*,gds.* \\\n",
    "    -e NEO4J_dbms_security_procedures_allowlist=gds.*,apoc.* \\\n",
    "    -v /Users/jayhsu/work/ws/neo4j/recommendation_system/data:/data \\\n",
    "    -v /Users/jayhsu/work/ws/neo4j/recommendation_system/logs:/logs \\\n",
    "    -v /Users/jayhsu/work/ws/neo4j/recommendation_system/import:/var/lib/neo4j/import \\\n",
    "    -v /Users/jayhsu/work/ws/neo4j/recommendation_system/plugins:/plugins \\\n",
    "    --env NEO4J_dbms_memory_heap_max__size=2g \\\n",
    "    --env NEO4J_dbms_memory_pagecache_size=2g \\\n",
    "    --env NEO4J_AUTH=neo4j/admin \\\n",
    "    neo4j:latest"
   ]
  },
  {
   "cell_type": "code",
   "execution_count": 58,
   "id": "341648fa",
   "metadata": {},
   "outputs": [],
   "source": [
    "def get_relation_count():\n",
    "    cypher = '''MATCH (n)-[r]-() RETURN COUNT(distinct n) as nodeCount, COUNT (distinct r) as relCount'''\n",
    "    cursor = graph_db.run(cypher)\n",
    "    df = cursor.to_data_frame()\n",
    "    return df\n",
    "\n",
    "def del_all_graph():\n",
    "    #Delete all node and relations\n",
    "    cypher = '''MATCH (i)\n",
    "    DETACH DELETE i\n",
    "    '''\n",
    "    graph_db.run(cypher)\n"
   ]
  },
  {
   "cell_type": "code",
   "execution_count": 59,
   "id": "6ef1107b",
   "metadata": {},
   "outputs": [],
   "source": [
    "#neo4j DB info\n",
    "#7473/tcp, 0.0.0.0:7471->7474/tcp, 0.0.0.0:7681->7687/tcp\n",
    "db_info = {\n",
    "    #'uri' : \"bolt://10.109.6.14:7681\",\n",
    "    'uri' : \"bolt://localhost:7681\",\n",
    "    'user' : \"neo4j\",\n",
    "    'password' : \"admin\",\n",
    "    }\n",
    "graph_db = Graph(db_info['uri'], user=db_info['user'], password=db_info['password'])"
   ]
  },
  {
   "cell_type": "code",
   "execution_count": 60,
   "id": "76516081",
   "metadata": {},
   "outputs": [
    {
     "name": "stderr",
     "output_type": "stream",
     "text": [
      "100%|█████████████████████████████████████████████████████████████████████████████████████████████████████████████████████████████████████████| 6570/6570 [08:42<00:00, 12.58it/s]\n"
     ]
    }
   ],
   "source": [
    "#Doc & Keywords\n",
    "for titleno in tqdm(case_list.keys()):\n",
    "    case_dict = case_list[titleno]\n",
    "    title_sum = case_dict['title_sum']\n",
    "    node_doc = Node('Doc', titleno=titleno, title_sum=title_sum)\n",
    "    graph_db.merge(node_doc, 'Doc', 'titleno',)\n",
    "    kw_dic = case_dict['keywords']\n",
    "    for k in kw_dic:\n",
    "        keyword = k['keyword']\n",
    "        score = k['score']\n",
    "        node_keyword = Node('Keyword', keyword=keyword)\n",
    "        graph_db.merge(node_keyword, 'Keyword', 'keyword',)\n",
    "        rel_kw = Relationship(node_doc, 'HAS_KEYWORD', node_keyword, score=score)\n",
    "        graph_db.merge(rel_kw)    \n",
    "    "
   ]
  },
  {
   "cell_type": "code",
   "execution_count": 61,
   "id": "e4e3a689",
   "metadata": {},
   "outputs": [
    {
     "name": "stderr",
     "output_type": "stream",
     "text": [
      "100%|███████████████████████████████████████████████████████████████████████████████████████████████████████████████████████████████████████| 21829/21829 [05:40<00:00, 64.18it/s]\n"
     ]
    }
   ],
   "source": [
    "#User Click\n",
    "matcher = NodeMatcher(graph_db)\n",
    "for c in tqdm(user_click):\n",
    "    userno = c['userno']\n",
    "    userid = c['userid']\n",
    "    titleno = c['titleno']\n",
    "    clicked = c['clicked']    \n",
    "    node_user = Node('User', userno=userno, userid=userid)\n",
    "    node_doc = matcher.match(\"Doc\",titleno=titleno).first()\n",
    "    graph_db.merge(node_user, 'User', 'userno',)\n",
    "    if clicked==1:\n",
    "        if titleno in testdata_dict[userid]:\n",
    "            rel_click = Relationship(node_user, 'LIKE_TEST', node_doc, clicked=clicked, score=1)\n",
    "        else:\n",
    "            rel_click = Relationship(node_user, 'LIKE', node_doc, clicked=clicked, score=1)\n",
    "    else:\n",
    "        rel_click = Relationship(node_user, 'DONT_LIKE', node_doc, clicked=clicked, score=0)\n",
    "    graph_db.merge(rel_click)        \n",
    "    "
   ]
  },
  {
   "cell_type": "code",
   "execution_count": 63,
   "id": "b0a9fe6c",
   "metadata": {},
   "outputs": [
    {
     "data": {
      "text/html": [
       "<div>\n",
       "<style scoped>\n",
       "    .dataframe tbody tr th:only-of-type {\n",
       "        vertical-align: middle;\n",
       "    }\n",
       "\n",
       "    .dataframe tbody tr th {\n",
       "        vertical-align: top;\n",
       "    }\n",
       "\n",
       "    .dataframe thead th {\n",
       "        text-align: right;\n",
       "    }\n",
       "</style>\n",
       "<table border=\"1\" class=\"dataframe\">\n",
       "  <thead>\n",
       "    <tr style=\"text-align: right;\">\n",
       "      <th></th>\n",
       "      <th>nodeCount</th>\n",
       "      <th>relCount</th>\n",
       "    </tr>\n",
       "  </thead>\n",
       "  <tbody>\n",
       "    <tr>\n",
       "      <th>0</th>\n",
       "      <td>17738</td>\n",
       "      <td>54678</td>\n",
       "    </tr>\n",
       "  </tbody>\n",
       "</table>\n",
       "</div>"
      ],
      "text/plain": [
       "   nodeCount  relCount\n",
       "0      17738     54678"
      ]
     },
     "execution_count": 63,
     "metadata": {},
     "output_type": "execute_result"
    }
   ],
   "source": [
    "get_relation_count()"
   ]
  },
  {
   "cell_type": "code",
   "execution_count": null,
   "id": "a88deb34",
   "metadata": {},
   "outputs": [],
   "source": []
  },
  {
   "cell_type": "code",
   "execution_count": 25,
   "id": "1202a211",
   "metadata": {},
   "outputs": [],
   "source": []
  },
  {
   "cell_type": "code",
   "execution_count": null,
   "id": "a9ed48ea",
   "metadata": {},
   "outputs": [],
   "source": []
  }
 ],
 "metadata": {
  "kernelspec": {
   "display_name": "Python 3 (ipykernel)",
   "language": "python",
   "name": "python3"
  },
  "language_info": {
   "codemirror_mode": {
    "name": "ipython",
    "version": 3
   },
   "file_extension": ".py",
   "mimetype": "text/x-python",
   "name": "python",
   "nbconvert_exporter": "python",
   "pygments_lexer": "ipython3",
   "version": "3.8.2"
  }
 },
 "nbformat": 4,
 "nbformat_minor": 5
}
